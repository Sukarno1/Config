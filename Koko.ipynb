{
  "nbformat": 4,
  "nbformat_minor": 0,
  "metadata": {
    "colab": {
      "provenance": [],
      "mount_file_id": "1oaWVMqLQ4oxDH_K8H-XhVK0cdzno3ldF",
      "authorship_tag": "ABX9TyOZz8s68Svfi+Z0eFNiAF4F",
      "include_colab_link": true
    },
    "kernelspec": {
      "name": "python3",
      "display_name": "Python 3"
    },
    "language_info": {
      "name": "python"
    }
  },
  "cells": [
    {
      "cell_type": "markdown",
      "metadata": {
        "id": "view-in-github",
        "colab_type": "text"
      },
      "source": [
        "<a href=\"https://colab.research.google.com/github/Sukarno1/Config/blob/main/Koko.ipynb\" target=\"_parent\"><img src=\"https://colab.research.google.com/assets/colab-badge.svg\" alt=\"Open In Colab\"/></a>"
      ]
    },
    {
      "cell_type": "markdown",
      "source": [
        "hhhhhhhhhhvb\n",
        "bbbbbbbbbbbbbb"
      ],
      "metadata": {
        "id": "-ND0I44ib9G_"
      }
    },
    {
      "cell_type": "markdown",
      "source": [],
      "metadata": {
        "id": "63eO2zmxcCVK"
      }
    }
  ]
}